{
  "nbformat": 4,
  "nbformat_minor": 0,
  "metadata": {
    "colab": {
      "provenance": [],
      "gpuType": "T4",
      "authorship_tag": "ABX9TyM2PGfrePp9eMNaGmsmSHwS",
      "include_colab_link": true
    },
    "kernelspec": {
      "name": "python3",
      "display_name": "Python 3"
    },
    "language_info": {
      "name": "python"
    },
    "accelerator": "GPU"
  },
  "cells": [
    {
      "cell_type": "markdown",
      "metadata": {
        "id": "view-in-github",
        "colab_type": "text"
      },
      "source": [
        "<a href=\"https://colab.research.google.com/github/Divyaanshvats/vats_AI_Gen_Prompt/blob/main/TASK.ipynb\" target=\"_parent\"><img src=\"https://colab.research.google.com/assets/colab-badge.svg\" alt=\"Open In Colab\"/></a>"
      ]
    },
    {
      "cell_type": "markdown",
      "source": [
        "# **MATHONGO AI PROMPT ENGINEERING TASK**"
      ],
      "metadata": {
        "id": "yGp1hdEadtgp"
      }
    },
    {
      "cell_type": "code",
      "source": [
        "!pip install FPDF"
      ],
      "metadata": {
        "colab": {
          "base_uri": "https://localhost:8080/"
        },
        "id": "Q1ebMoFXr1z4",
        "outputId": "82f2303e-9273-4df1-f474-8dfb891c20b9"
      },
      "execution_count": 17,
      "outputs": [
        {
          "output_type": "stream",
          "name": "stdout",
          "text": [
            "Requirement already satisfied: FPDF in /usr/local/lib/python3.11/dist-packages (1.7.2)\n"
          ]
        }
      ]
    },
    {
      "cell_type": "markdown",
      "source": [
        "# IMPORT ALL THE REQUIREMENTS"
      ],
      "metadata": {
        "id": "soJFDuzKALNY"
      }
    },
    {
      "cell_type": "code",
      "source": [
        "import json\n",
        "import openai\n",
        "import pandas as pd\n",
        "import matplotlib.pyplot as plt\n",
        "import seaborn as sns\n",
        "from fpdf import FPDF\n",
        "import os\n",
        "import zipfile"
      ],
      "metadata": {
        "id": "ts8N7ALB_Zek"
      },
      "execution_count": 18,
      "outputs": []
    },
    {
      "cell_type": "markdown",
      "source": [
        "# API HANDLING"
      ],
      "metadata": {
        "id": "P3mHoy6LAQQk"
      }
    },
    {
      "cell_type": "code",
      "source": [
        "client = openai.OpenAI(\n",
        "    base_url=\"https://api.groq.com/openai/v1\",\n",
        "    api_key=\"gsk_XXXXXXXXXXXXXXXXXXXXXXXXXXXX\" # I HAVE USED THE API KEY FOR GroqCloud\n",
        ")"
      ],
      "metadata": {
        "id": "zerPXWYO_cDk"
      },
      "execution_count": 19,
      "outputs": []
    },
    {
      "cell_type": "markdown",
      "source": [
        "# LOAD THE JSON FILE"
      ],
      "metadata": {
        "id": "1qBvAvURAVkU"
      }
    },
    {
      "cell_type": "code",
      "source": [
        "def load_json(file_path):\n",
        "    with open(file_path, 'r', encoding='utf-8') as f:\n",
        "        data = json.load(f)\n",
        "    return data[0]"
      ],
      "metadata": {
        "id": "aHsh8ZKr_hPH"
      },
      "execution_count": 20,
      "outputs": []
    },
    {
      "cell_type": "markdown",
      "source": [
        "# Extracting and Summarizing Student Subject Performance"
      ],
      "metadata": {
        "id": "7u-gFn0NAbTS"
      }
    },
    {
      "cell_type": "code",
      "source": [
        "def extract_summary(data):\n",
        "    subject_map = {\n",
        "        \"607018ee404ae53194e73d92\": \"Physics\",\n",
        "        \"607018ee404ae53194e73d90\": \"Chemistry\",\n",
        "        \"607018ee404ae53194e73d91\": \"Maths\"\n",
        "    }\n",
        "    summary = []\n",
        "    for sub in data[\"subjects\"]:\n",
        "        s_id = sub[\"subjectId\"][\"$oid\"]\n",
        "        summary.append({\n",
        "            \"subject\": subject_map.get(s_id, s_id),\n",
        "            \"score\": sub[\"totalMarkScored\"],\n",
        "            \"accuracy\": sub[\"accuracy\"],\n",
        "            \"time_taken\": sub[\"totalTimeTaken\"] // 60  # we are dividing by 60 so to calculate in minutes\n",
        "        })\n",
        "    return summary"
      ],
      "metadata": {
        "id": "s0jCvhqc_j_V"
      },
      "execution_count": 21,
      "outputs": []
    },
    {
      "cell_type": "markdown",
      "source": [
        "#  FEEDBACK GENERATION AND VISUALIZATION"
      ],
      "metadata": {
        "id": "TriNqbcZAxdE"
      }
    },
    {
      "cell_type": "code",
      "source": [
        "def generate_feedback(summary, total_accuracy, total_score):\n",
        "    prompt = f\"\"\"\n",
        "You are an educational performance analyst. Analyze the following student test results:\n",
        "\n",
        "Subject-wise details:\n",
        "{json.dumps(summary, indent=2)}\n",
        "\n",
        "Overall:\n",
        "Total Score: {total_score}/300\n",
        "Average Accuracy: {total_accuracy:.2f}%\n",
        "\n",
        "Generate a PDF-ready feedback report with the following:\n",
        "1. A subject-wise breakdown with observations (mention scoring trend, accuracy vs time).\n",
        "2. Clear identification of strengths and weaknesses.\n",
        "3. Explain time management — highlight if student rushed or overspent time.\n",
        "4. Suggest 2–3 personalized, actionable steps per subject.\n",
        "5. Conclude with an encouraging motivational message.\n",
        "\n",
        "Be specific, analytical, and use natural human tone.\n",
        "\"\"\"\n",
        "    response = client.chat.completions.create(\n",
        "        model=\"llama3-70b-8192\",\n",
        "        messages=[\n",
        "            {\"role\": \"system\", \"content\": \"You are a helpful education assistant.\"},\n",
        "            {\"role\": \"user\", \"content\": prompt}\n",
        "        ],\n",
        "        temperature=0.7\n",
        "    )\n",
        "    return response.choices[0].message.content\n",
        "\n",
        "def plot_time_vs_accuracy(summary, plot_path):\n",
        "    df = pd.DataFrame(summary)\n",
        "    sns.set(style=\"whitegrid\")\n",
        "    plt.figure(figsize=(6, 4))\n",
        "    sns.barplot(x=\"subject\", y=\"accuracy\", data=df, hue=\"subject\", legend=False, palette=\"viridis\")\n",
        "    plt.ylabel(\"Accuracy (%)\")\n",
        "    plt.xlabel(\"Subject\")\n",
        "    plt.title(\"Accuracy per Subject\")\n",
        "    plt.tight_layout()\n",
        "    plt.savefig(plot_path)\n",
        "    plt.close()"
      ],
      "metadata": {
        "id": "Hh9g5EV-_mH9"
      },
      "execution_count": 22,
      "outputs": []
    },
    {
      "cell_type": "markdown",
      "source": [
        "# Personalized Student Feedback PDF"
      ],
      "metadata": {
        "id": "3ikK-3miA4dx"
      }
    },
    {
      "cell_type": "code",
      "source": [
        "class FeedbackPDF(FPDF):\n",
        "    def header(self):\n",
        "        self.set_font('Arial', 'B', 14)\n",
        "        self.set_fill_color(230, 240, 255)\n",
        "        self.cell(0, 10, 'AI-Powered Student Feedback Report', ln=True, align='C', fill=True)\n",
        "        self.ln(10)\n",
        "\n",
        "    def chapter_title(self, label):\n",
        "        self.set_fill_color(200, 220, 255)\n",
        "        self.set_font('Arial', 'B', 12)\n",
        "        self.cell(0, 10, label, ln=True, fill=True)\n",
        "        self.ln(2)\n",
        "\n",
        "    def chapter_body(self, text):\n",
        "        self.set_font('Arial', '', 11)\n",
        "        self.multi_cell(0, 8, text)\n",
        "        self.ln()\n",
        "\n",
        "    def add_feedback(self, title, content):\n",
        "        self.chapter_title(title)\n",
        "        self.chapter_body(content)\n",
        "\n",
        "def clean_text_for_pdf(text):\n",
        "    return text.encode('latin-1', 'replace').decode('latin-1')\n",
        "\n",
        "def process_file(json_path, output_pdf):\n",
        "    data = load_json(json_path)\n",
        "    summary = extract_summary(data)\n",
        "    total_score = sum(sub[\"totalMarkScored\"] for sub in data[\"subjects\"])\n",
        "    total_accuracy = sum(sub[\"accuracy\"] for sub in data[\"subjects\"]) / len(data[\"subjects\"])\n",
        "\n",
        "    feedback = generate_feedback(summary, total_accuracy, total_score)\n",
        "    feedback = clean_text_for_pdf(feedback)  # ✅ Fix unicode issues\n",
        "\n",
        "    plot_path = f\"plot_{os.path.basename(json_path).split('.')[0]}.png\"\n",
        "    plot_time_vs_accuracy(summary, plot_path)\n",
        "\n",
        "    pdf = FeedbackPDF()\n",
        "    pdf.add_page()\n",
        "    pdf.chapter_title(\"Performance Summary\")\n",
        "    summary_text = f\"Total Score: {total_score}/300\\nAverage Accuracy: {total_accuracy:.2f}%\\n\"\n",
        "    pdf.chapter_body(summary_text)\n",
        "    pdf.add_feedback(\"Personalized Feedback\", feedback)\n",
        "    pdf.image(plot_path, x=10, y=None, w=180)\n",
        "    pdf.output(output_pdf)\n",
        "    print(f\"✅ Generated: {output_pdf}\")"
      ],
      "metadata": {
        "id": "tQvqoAGG_mKQ"
      },
      "execution_count": 23,
      "outputs": []
    },
    {
      "cell_type": "markdown",
      "source": [
        "# ZIP THE PDFs"
      ],
      "metadata": {
        "id": "lmNsW6HRBwi4"
      }
    },
    {
      "cell_type": "code",
      "source": [
        "def zip_pdfs(pdf_files, zip_name=\"student_reports.zip\"):\n",
        "    with zipfile.ZipFile(zip_name, 'w') as zipf:\n",
        "        for pdf in pdf_files:\n",
        "            zipf.write(pdf)\n",
        "    print(f\"📦 Zipped into: {zip_name}\")"
      ],
      "metadata": {
        "id": "A06uDd5H_mMU"
      },
      "execution_count": 24,
      "outputs": []
    },
    {
      "cell_type": "markdown",
      "source": [
        "# REPORT GENERATION"
      ],
      "metadata": {
        "id": "tC5RwGoIB2r5"
      }
    },
    {
      "cell_type": "code",
      "source": [
        "# --- Run on All Files ---\n",
        "files = [\n",
        "    \"sample_submission_analysis_1.json\",\n",
        "    \"sample_submission_analysis_2.json\",\n",
        "    \"sample_submission_analysis_3.json\",\n",
        "    \"sample_submission_analysis_3 (1).json\"\n",
        "]\n",
        "\n",
        "pdf_files = []\n",
        "\n",
        "for i, file in enumerate(files, start=1):\n",
        "    try:\n",
        "        output_name = f\"student_feedback_report_{i}.pdf\"\n",
        "        process_file(file, output_name)\n",
        "        pdf_files.append(output_name)\n",
        "    except Exception as e:\n",
        "        print(f\"❌ Error in {file}: {e}\")"
      ],
      "metadata": {
        "colab": {
          "base_uri": "https://localhost:8080/"
        },
        "id": "zcTZbw-5_mOM",
        "outputId": "847baf6a-50f5-4577-b359-706e446c0d04"
      },
      "execution_count": 25,
      "outputs": [
        {
          "output_type": "stream",
          "name": "stdout",
          "text": [
            "✅ Generated: student_feedback_report_1.pdf\n",
            "✅ Generated: student_feedback_report_2.pdf\n",
            "✅ Generated: student_feedback_report_3.pdf\n",
            "✅ Generated: student_feedback_report_4.pdf\n"
          ]
        }
      ]
    },
    {
      "cell_type": "markdown",
      "source": [
        "# **GENERATE students_report.zip**"
      ],
      "metadata": {
        "id": "zdOYIv4dB6tY"
      }
    },
    {
      "cell_type": "code",
      "source": [
        "# --- Zip Output PDFs ---\n",
        "zip_pdfs(pdf_files)"
      ],
      "metadata": {
        "colab": {
          "base_uri": "https://localhost:8080/"
        },
        "id": "Xwqg4mVN_mRk",
        "outputId": "81d329e9-edaf-45d1-986c-9efc3779a7ab"
      },
      "execution_count": 26,
      "outputs": [
        {
          "output_type": "stream",
          "name": "stdout",
          "text": [
            "📦 Zipped into: student_reports.zip\n"
          ]
        }
      ]
    }
  ]
}